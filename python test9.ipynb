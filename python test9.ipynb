{
 "cells": [
  {
   "cell_type": "code",
   "execution_count": 15,
   "metadata": {},
   "outputs": [
    {
     "name": "stdout",
     "output_type": "stream",
     "text": [
      "6 8 10 12 14 16 18 20 22 24 26 28 30 32 34 36 38 \n",
      "9 12 15 18 21 24 27 30 33 36 39 42 45 48 51 54 57 \n",
      "12 16 20 24 28 32 36 40 44 48 52 56 60 64 68 72 76 \n",
      "15 20 25 30 35 40 45 50 55 60 65 70 75 80 85 90 95 \n",
      "18 24 30 36 42 48 54 60 66 72 78 84 90 96 102 108 114 \n",
      "21 28 35 42 49 56 63 70 77 84 91 98 105 112 119 126 133 \n",
      "24 32 40 48 56 64 72 80 88 96 104 112 120 128 136 144 152 \n",
      "27 36 45 54 63 72 81 90 99 108 117 126 135 144 153 162 171 \n",
      "30 40 50 60 70 80 90 100 110 120 130 140 150 160 170 180 190 \n"
     ]
    }
   ],
   "source": [
    "for i in  range(2,11):\n",
    "\tfor j in range(3,20):\n",
    "\t\tprint(i*j,end=\" \")\n",
    "\tprint('')"
   ]
  }
 ],
 "metadata": {
  "interpreter": {
   "hash": "60fbf73ea762dcb8a97f8873d438f79a4dd727054cbd67e890e3a6208222d12f"
  },
  "kernelspec": {
   "display_name": "Python 3.10.2 64-bit",
   "language": "python",
   "name": "python3"
  },
  "language_info": {
   "codemirror_mode": {
    "name": "ipython",
    "version": 3
   },
   "file_extension": ".py",
   "mimetype": "text/x-python",
   "name": "python",
   "nbconvert_exporter": "python",
   "pygments_lexer": "ipython3",
   "version": "3.10.2"
  },
  "orig_nbformat": 4
 },
 "nbformat": 4,
 "nbformat_minor": 2
}
