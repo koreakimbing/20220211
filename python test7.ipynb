{
 "cells": [
  {
   "cell_type": "code",
   "execution_count": 1,
   "metadata": {},
   "outputs": [
    {
     "name": "stdout",
     "output_type": "stream",
     "text": [
      "20\n",
      "10\n"
     ]
    }
   ],
   "source": [
    "class Calculator:\n",
    "\tdef setdata(self, first, second):\n",
    "\t\tself.first = first\n",
    "\t\tself.second = second\n",
    "\n",
    "a = Calculator()\n",
    "a.setdata(6, 3)\n",
    "\n",
    "b = Calculator()    # 클래스의 객체 b 생성\n",
    "b.setdata(20, 10)   # 입력값을 setdata를 통해 지정\n",
    "print(b.first)      # 입력값 first 출력\n",
    "print(b.second)     # 입력값 second 출력"
   ]
  }
 ],
 "metadata": {
  "interpreter": {
   "hash": "60fbf73ea762dcb8a97f8873d438f79a4dd727054cbd67e890e3a6208222d12f"
  },
  "kernelspec": {
   "display_name": "Python 3.10.2 64-bit",
   "language": "python",
   "name": "python3"
  },
  "language_info": {
   "codemirror_mode": {
    "name": "ipython",
    "version": 3
   },
   "file_extension": ".py",
   "mimetype": "text/x-python",
   "name": "python",
   "nbconvert_exporter": "python",
   "pygments_lexer": "ipython3",
   "version": "3.10.2"
  },
  "orig_nbformat": 4
 },
 "nbformat": 4,
 "nbformat_minor": 2
}
