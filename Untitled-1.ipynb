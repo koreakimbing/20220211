{
 "cells": [
  {
   "cell_type": "code",
   "execution_count": 2,
   "metadata": {},
   "outputs": [],
   "source": [
    "class Calculator():\n",
    "\tdef __init__(self, first, second):\n",
    "\t\tself.first = first\n",
    "\t\tself.second = second\n",
    "\tdef add(self):\n",
    "\t\tresult = self.first + self.second\n",
    "\t\treturn result\n",
    "\tdef minus(self):\n",
    "\t\tresult = self.first - self.second\n",
    "\t\treturn result\t\n",
    "\tdef multiple(self):\n",
    "\t\tresult = self.first * self.second\n",
    "\t\treturn result\n",
    "\tdef divide(self):\n",
    "\t\tresult = self.first / self.second\n",
    "\t\treturn result"
   ]
  }
 ],
 "metadata": {
  "interpreter": {
   "hash": "60fbf73ea762dcb8a97f8873d438f79a4dd727054cbd67e890e3a6208222d12f"
  },
  "kernelspec": {
   "display_name": "Python 3.10.2 64-bit",
   "language": "python",
   "name": "python3"
  },
  "language_info": {
   "codemirror_mode": {
    "name": "ipython",
    "version": 3
   },
   "file_extension": ".py",
   "mimetype": "text/x-python",
   "name": "python",
   "nbconvert_exporter": "python",
   "pygments_lexer": "ipython3",
   "version": "3.10.2"
  },
  "orig_nbformat": 4
 },
 "nbformat": 4,
 "nbformat_minor": 2
}
