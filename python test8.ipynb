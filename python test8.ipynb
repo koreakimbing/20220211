{
 "cells": [
  {
   "cell_type": "code",
   "execution_count": 1,
   "metadata": {},
   "outputs": [
    {
     "ename": "IndentationError",
     "evalue": "unexpected indent (1384565383.py, line 10)",
     "output_type": "error",
     "traceback": [
      "\u001b[1;36m  Input \u001b[1;32mIn [1]\u001b[1;36m\u001b[0m\n\u001b[1;33m    def add(self):   # add 메소드\u001b[0m\n\u001b[1;37m    ^\u001b[0m\n\u001b[1;31mIndentationError\u001b[0m\u001b[1;31m:\u001b[0m unexpected indent\n"
     ]
    }
   ],
   "source": [
    "<div class=\"nums\">\n",
    "\t\t<div>\n",
    "\t\t\t\t<strong> </strong>\n",
    "\t\t\t\t<p>\n",
    "\t\t\t\t\t<span> </span>\n",
    "\t\t\t\t\t<span> </span>\n",
    "\t\t\t\t\t<span> </span>\n",
    "\t\t\t\t\t<span> </span>\n",
    "\t\t\t\t\t<span> </span>\n",
    "\t\t\t\t\t<span> </span>\n",
    "\t\t\t\t</p>\n",
    "\t\t</div>\n",
    "\t\t<div>\n",
    "\t\t\t\t<strong> </strong>\n",
    "\t\t\t\t<p>\n",
    "\t\t\t\t\t<span> </span>\n",
    "\t\t\t\t</p>\n",
    "\t\t</div>\n",
    "</div>"
   ]
  }
 ],
 "metadata": {
  "interpreter": {
   "hash": "60fbf73ea762dcb8a97f8873d438f79a4dd727054cbd67e890e3a6208222d12f"
  },
  "kernelspec": {
   "display_name": "Python 3.10.2 64-bit",
   "language": "python",
   "name": "python3"
  },
  "language_info": {
   "codemirror_mode": {
    "name": "ipython",
    "version": 3
   },
   "file_extension": ".py",
   "mimetype": "text/x-python",
   "name": "python",
   "nbconvert_exporter": "python",
   "pygments_lexer": "ipython3",
   "version": "3.10.2"
  },
  "orig_nbformat": 4
 },
 "nbformat": 4,
 "nbformat_minor": 2
}
