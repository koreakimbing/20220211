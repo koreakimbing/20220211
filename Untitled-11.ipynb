{
 "cells": [
  {
   "cell_type": "code",
   "execution_count": 11,
   "metadata": {},
   "outputs": [
    {
     "name": "stdout",
     "output_type": "stream",
     "text": [
      "(1, 2)\n",
      "('python', 2, 1)\n",
      "(1, 4, (1, 2, 4, 5))\n",
      "(1, 2)\n",
      "('python', 2, 1)\n",
      "(1, 4, (1, 2, 4, 5))\n",
      "(1, 2)\n",
      "('python', 2, 1)\n",
      "(1, 4, (1, 2, 4, 5))\n",
      "(1, 2)\n",
      "('python', 2, 1)\n",
      "(1, 4, (1, 2, 4, 5))\n",
      "{1, 2, 3}\n",
      "{1, 4, 5, 6, 7}\n",
      "{'o', 'd', 'e', 'H', 'W', 'r', ' ', '!', 'l'}\n"
     ]
    }
   ],
   "source": [
    "example_tupleOne = (1,2)\n",
    "example_tupleTwo = (\"python\",2,1)\n",
    "example_tupleThree = (0,4,(1,2,4,5))\n",
    "example_tupleOne = (1,2)\n",
    "example_tupleTwo = (\"python\",2,1)\n",
    "example_tupleThree = (1,4,(1,2,4,5))\n",
    "example_tupleOne = (1,2)\n",
    "example_tupleTwo = (\"python\",2,1)\n",
    "example_tupleThree = (0,4,(1,2,4,5))\n",
    "example_tupleOne = (1,2)\n",
    "example_tupleTwo = (\"python\",2,1)\n",
    "example_tupleThree = (1,4,(1,2,4,5))\n",
    "\n",
    "print(example_tupleOne)\n",
    "print(example_tupleTwo)\n",
    "print(example_tupleThree)\n",
    "print(example_tupleOne)\n",
    "print(example_tupleTwo)\n",
    "print(example_tupleThree)\n",
    "print(example_tupleOne)\n",
    "print(example_tupleTwo)\n",
    "print(example_tupleThree)\n",
    "print(example_tupleOne)\n",
    "print(example_tupleTwo)\n",
    "print(example_tupleThree)\n",
    "\n",
    "setOne = {1,2,3}\n",
    "setTwo = set([7,6,5,4,1])\n",
    "setThree = set(\"Hello World!\")\n",
    "\n",
    "print(setOne)\n",
    "print(setTwo)\n",
    "print(setThree)"
   ]
  }
 ],
 "metadata": {
  "interpreter": {
   "hash": "60fbf73ea762dcb8a97f8873d438f79a4dd727054cbd67e890e3a6208222d12f"
  },
  "kernelspec": {
   "display_name": "Python 3.10.2 64-bit",
   "language": "python",
   "name": "python3"
  },
  "language_info": {
   "codemirror_mode": {
    "name": "ipython",
    "version": 3
   },
   "file_extension": ".py",
   "mimetype": "text/x-python",
   "name": "python",
   "nbconvert_exporter": "python",
   "pygments_lexer": "ipython3",
   "version": "3.10.2"
  },
  "orig_nbformat": 4
 },
 "nbformat": 4,
 "nbformat_minor": 2
}
