{
 "cells": [
  {
   "cell_type": "code",
   "execution_count": 3,
   "metadata": {},
   "outputs": [
    {
     "name": "stdout",
     "output_type": "stream",
     "text": [
      "360.0\n",
      "197.0\n",
      "150.0\n",
      "131.0\n",
      "360.0\n",
      "197.0\n",
      "150.0\n",
      "131.0\n",
      "360.0\n",
      "197.0\n",
      "150.0\n",
      "131.0\n",
      "187.0\n",
      "197.0\n",
      "207.0\n",
      "217.0\n"
     ]
    }
   ],
   "source": [
    "# 함수 미사용\n",
    "print(3 * 100 / 20 + 345 // 1)\n",
    "print(5 * 100 / 20 + 345 // 2)\n",
    "print(7 * 100 / 20 + 345 // 3)\n",
    "print(9 * 100 / 20 + 345 // 4)\n",
    "print(3 * 100 / 20 + 345 // 1)\n",
    "print(5 * 100 / 20 + 345 // 2)\n",
    "print(7 * 100 / 20 + 345 // 3)\n",
    "print(9 * 100 / 20 + 345 // 4)\n",
    "print(3 * 100 / 20 + 345 // 1)\n",
    "print(5 * 100 / 20 + 345 // 2)\n",
    "print(7 * 100 / 20 + 345 // 3)\n",
    "print(9 * 100 / 20 + 345 // 4)\n",
    "\n",
    "# 함수 사용\n",
    "def Calculate(x):\n",
    "    return x * 100 / 20 + 345 // 2\n",
    "print(Calculate(3))\n",
    "print(Calculate(5))\n",
    "print(Calculate(7))\n",
    "print(Calculate(9))"
   ]
  }
 ],
 "metadata": {
  "interpreter": {
   "hash": "60fbf73ea762dcb8a97f8873d438f79a4dd727054cbd67e890e3a6208222d12f"
  },
  "kernelspec": {
   "display_name": "Python 3.10.2 64-bit",
   "language": "python",
   "name": "python3"
  },
  "language_info": {
   "codemirror_mode": {
    "name": "ipython",
    "version": 3
   },
   "file_extension": ".py",
   "mimetype": "text/x-python",
   "name": "python",
   "nbconvert_exporter": "python",
   "pygments_lexer": "ipython3",
   "version": "3.10.2"
  },
  "orig_nbformat": 4
 },
 "nbformat": 4,
 "nbformat_minor": 2
}
