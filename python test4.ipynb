{
 "cells": [
  {
   "cell_type": "code",
   "execution_count": 5,
   "metadata": {},
   "outputs": [
    {
     "name": "stdout",
     "output_type": "stream",
     "text": [
      "2083\n",
      "6.0\n",
      "2080 + 1\n",
      "20801\n",
      "0.5 + 0.5\n",
      "0.50.5\n"
     ]
    },
    {
     "data": {
      "text/plain": [
       "SystemExit"
      ]
     },
     "execution_count": 5,
     "metadata": {},
     "output_type": "execute_result"
    }
   ],
   "source": [
    "print(2080 + 3)\n",
    "print(1.5 + 4.5)\n",
    "print(\"2080 + 1\")\n",
    "print(\"2080\" + \"1\")\n",
    "print(\"0.5 + 0.5\")\n",
    "print(\"0.5\" + \"0.5\")\n",
    "\n",
    "SystemExit"
   ]
  }
 ],
 "metadata": {
  "interpreter": {
   "hash": "60fbf73ea762dcb8a97f8873d438f79a4dd727054cbd67e890e3a6208222d12f"
  },
  "kernelspec": {
   "display_name": "Python 3.10.2 64-bit",
   "language": "python",
   "name": "python3"
  },
  "language_info": {
   "codemirror_mode": {
    "name": "ipython",
    "version": 3
   },
   "file_extension": ".py",
   "mimetype": "text/x-python",
   "name": "python",
   "nbconvert_exporter": "python",
   "pygments_lexer": "ipython3",
   "version": "3.10.2"
  },
  "orig_nbformat": 4
 },
 "nbformat": 4,
 "nbformat_minor": 2
}
